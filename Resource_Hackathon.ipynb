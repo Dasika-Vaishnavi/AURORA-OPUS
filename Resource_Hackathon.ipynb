{
  "nbformat": 4,
  "nbformat_minor": 0,
  "metadata": {
    "colab": {
      "name": "Resource_Hackathon.ipynb",
      "provenance": [],
      "collapsed_sections": []
    },
    "kernelspec": {
      "name": "python3",
      "display_name": "Python 3"
    },
    "language_info": {
      "name": "python"
    }
  },
  "cells": [
    {
      "cell_type": "code",
      "metadata": {
        "id": "l1wX9W7bRyF3"
      },
      "source": [
        "import pandas as pd\n",
        "import numpy as np\n",
        "import seaborn as sns\n",
        "sns.set(style=\"whitegrid\")\n",
        "from collections import Counter\n",
        "from random import randint\n",
        "import random\n",
        "import warnings\n",
        "warnings.filterwarnings('ignore')\n",
        "from sklearn.cluster import KMeans\n",
        "import numpy as np\n",
        "from matplotlib import pyplot as plt\n",
        "\n",
        "%matplotlib inline"
      ],
      "execution_count": null,
      "outputs": []
    },
    {
      "cell_type": "code",
      "metadata": {
        "colab": {
          "base_uri": "https://localhost:8080/",
          "height": 350
        },
        "id": "jZQzc2u1Sykw",
        "outputId": "bdb33497-3c08-4478-da6b-95f4a5812135"
      },
      "source": [
        "df=pd.read_csv('/content/hackathon.csv')\n",
        "df.head()"
      ],
      "execution_count": null,
      "outputs": [
        {
          "output_type": "execute_result",
          "data": {
            "text/html": [
              "<div>\n",
              "<style scoped>\n",
              "    .dataframe tbody tr th:only-of-type {\n",
              "        vertical-align: middle;\n",
              "    }\n",
              "\n",
              "    .dataframe tbody tr th {\n",
              "        vertical-align: top;\n",
              "    }\n",
              "\n",
              "    .dataframe thead th {\n",
              "        text-align: right;\n",
              "    }\n",
              "</style>\n",
              "<table border=\"1\" class=\"dataframe\">\n",
              "  <thead>\n",
              "    <tr style=\"text-align: right;\">\n",
              "      <th></th>\n",
              "      <th>Name</th>\n",
              "      <th>Start Date</th>\n",
              "      <th>Role</th>\n",
              "      <th>Role Level</th>\n",
              "      <th>Vendor</th>\n",
              "      <th>Product</th>\n",
              "      <th>Prod Start Date</th>\n",
              "      <th>Prod End Date</th>\n",
              "      <th>resource product start date</th>\n",
              "      <th>resource product end date</th>\n",
              "      <th>Prod Build Location</th>\n",
              "      <th>Anchor</th>\n",
              "      <th>Work Intake Scoping</th>\n",
              "      <th>Interviewer</th>\n",
              "      <th>Security Maven</th>\n",
              "      <th>Accessibility</th>\n",
              "      <th>DevSecOps</th>\n",
              "      <th>Education Track</th>\n",
              "      <th>Location</th>\n",
              "      <th>E/C</th>\n",
              "      <th>Color (Y/N)</th>\n",
              "      <th>Gender</th>\n",
              "      <th>Available for Other areas</th>\n",
              "      <th>Skill 1</th>\n",
              "      <th>Skill 2</th>\n",
              "      <th>Skill 3</th>\n",
              "      <th>Skill 4</th>\n",
              "      <th>Skill 5</th>\n",
              "    </tr>\n",
              "  </thead>\n",
              "  <tbody>\n",
              "    <tr>\n",
              "      <th>0</th>\n",
              "      <td>Resource 2</td>\n",
              "      <td>11/29/17</td>\n",
              "      <td>Engr</td>\n",
              "      <td>Senior</td>\n",
              "      <td>NaN</td>\n",
              "      <td>Product 1</td>\n",
              "      <td>01/04/21</td>\n",
              "      <td>12/24/21</td>\n",
              "      <td>01/04/21</td>\n",
              "      <td>12/24/21</td>\n",
              "      <td>IL</td>\n",
              "      <td>NaN</td>\n",
              "      <td>NaN</td>\n",
              "      <td>NaN</td>\n",
              "      <td>NaN</td>\n",
              "      <td>NaN</td>\n",
              "      <td>NaN</td>\n",
              "      <td>NaN</td>\n",
              "      <td>IL</td>\n",
              "      <td>E</td>\n",
              "      <td>N</td>\n",
              "      <td>M</td>\n",
              "      <td>Y</td>\n",
              "      <td>NaN</td>\n",
              "      <td>Cloud</td>\n",
              "      <td>NaN</td>\n",
              "      <td>NaN</td>\n",
              "      <td>NaN</td>\n",
              "    </tr>\n",
              "    <tr>\n",
              "      <th>1</th>\n",
              "      <td>Resource 3</td>\n",
              "      <td>01/01/18</td>\n",
              "      <td>Engr</td>\n",
              "      <td>Senior</td>\n",
              "      <td>NaN</td>\n",
              "      <td>Product 2</td>\n",
              "      <td>01/24/21</td>\n",
              "      <td>12/24/21</td>\n",
              "      <td>01/24/21</td>\n",
              "      <td>12/24/21</td>\n",
              "      <td>AZ</td>\n",
              "      <td>Y</td>\n",
              "      <td>NaN</td>\n",
              "      <td>Y</td>\n",
              "      <td>NaN</td>\n",
              "      <td>NaN</td>\n",
              "      <td>NaN</td>\n",
              "      <td>NaN</td>\n",
              "      <td>IL</td>\n",
              "      <td>E</td>\n",
              "      <td>Y</td>\n",
              "      <td>M</td>\n",
              "      <td>N</td>\n",
              "      <td>Legacy Java</td>\n",
              "      <td>Cloud</td>\n",
              "      <td>IBM/Websphere</td>\n",
              "      <td>Angular</td>\n",
              "      <td>NaN</td>\n",
              "    </tr>\n",
              "    <tr>\n",
              "      <th>2</th>\n",
              "      <td>Resource 6</td>\n",
              "      <td>01/08/18</td>\n",
              "      <td>Engr</td>\n",
              "      <td>Senior</td>\n",
              "      <td>NaN</td>\n",
              "      <td>Product 3</td>\n",
              "      <td>01/31/21</td>\n",
              "      <td>12/24/21</td>\n",
              "      <td>01/31/21</td>\n",
              "      <td>12/17/21</td>\n",
              "      <td>IL</td>\n",
              "      <td>NaN</td>\n",
              "      <td>NaN</td>\n",
              "      <td>NaN</td>\n",
              "      <td>NaN</td>\n",
              "      <td>NaN</td>\n",
              "      <td>NaN</td>\n",
              "      <td>NaN</td>\n",
              "      <td>IL</td>\n",
              "      <td>E</td>\n",
              "      <td>N</td>\n",
              "      <td>M</td>\n",
              "      <td>Y</td>\n",
              "      <td>.NET</td>\n",
              "      <td>Cloud</td>\n",
              "      <td>NaN</td>\n",
              "      <td>NaN</td>\n",
              "      <td>NaN</td>\n",
              "    </tr>\n",
              "    <tr>\n",
              "      <th>3</th>\n",
              "      <td>Resource 7</td>\n",
              "      <td>01/08/18</td>\n",
              "      <td>Engr</td>\n",
              "      <td>Senior</td>\n",
              "      <td>NaN</td>\n",
              "      <td>Product 4</td>\n",
              "      <td>02/07/21</td>\n",
              "      <td>05/21/21</td>\n",
              "      <td>02/07/21</td>\n",
              "      <td>05/21/21</td>\n",
              "      <td>IL</td>\n",
              "      <td>Y</td>\n",
              "      <td>NaN</td>\n",
              "      <td>NaN</td>\n",
              "      <td>NaN</td>\n",
              "      <td>NaN</td>\n",
              "      <td>NaN</td>\n",
              "      <td>NaN</td>\n",
              "      <td>IL</td>\n",
              "      <td>E</td>\n",
              "      <td>Y</td>\n",
              "      <td>F</td>\n",
              "      <td>Y</td>\n",
              "      <td>.NET</td>\n",
              "      <td>Cloud</td>\n",
              "      <td>NaN</td>\n",
              "      <td>NaN</td>\n",
              "      <td>NaN</td>\n",
              "    </tr>\n",
              "    <tr>\n",
              "      <th>4</th>\n",
              "      <td>Resource 8</td>\n",
              "      <td>01/08/18</td>\n",
              "      <td>Engr</td>\n",
              "      <td>Senior</td>\n",
              "      <td>NaN</td>\n",
              "      <td>Product 5</td>\n",
              "      <td>02/21/21</td>\n",
              "      <td>12/03/21</td>\n",
              "      <td>02/21/21</td>\n",
              "      <td>12/03/21</td>\n",
              "      <td>AZ</td>\n",
              "      <td>NaN</td>\n",
              "      <td>NaN</td>\n",
              "      <td>NaN</td>\n",
              "      <td>NaN</td>\n",
              "      <td>NaN</td>\n",
              "      <td>NaN</td>\n",
              "      <td>NaN</td>\n",
              "      <td>IL</td>\n",
              "      <td>E</td>\n",
              "      <td>N</td>\n",
              "      <td>M</td>\n",
              "      <td>NaN</td>\n",
              "      <td>NaN</td>\n",
              "      <td>NaN</td>\n",
              "      <td>NaN</td>\n",
              "      <td>NaN</td>\n",
              "      <td>NaN</td>\n",
              "    </tr>\n",
              "  </tbody>\n",
              "</table>\n",
              "</div>"
            ],
            "text/plain": [
              "         Name Start Date   Role  ...        Skill 3  Skill 4 Skill 5\n",
              "0  Resource 2   11/29/17   Engr  ...            NaN      NaN     NaN\n",
              "1  Resource 3   01/01/18   Engr  ...  IBM/Websphere  Angular     NaN\n",
              "2  Resource 6   01/08/18   Engr  ...            NaN      NaN     NaN\n",
              "3  Resource 7   01/08/18   Engr  ...            NaN      NaN     NaN\n",
              "4  Resource 8   01/08/18  Engr   ...            NaN      NaN     NaN\n",
              "\n",
              "[5 rows x 28 columns]"
            ]
          },
          "metadata": {
            "tags": []
          },
          "execution_count": 26
        }
      ]
    },
    {
      "cell_type": "code",
      "metadata": {
        "colab": {
          "base_uri": "https://localhost:8080/"
        },
        "id": "lH56v3EhTRid",
        "outputId": "280ed3d1-0eb8-49f1-bd6a-2b4f55752a81"
      },
      "source": [
        "df.columns"
      ],
      "execution_count": null,
      "outputs": [
        {
          "output_type": "execute_result",
          "data": {
            "text/plain": [
              "Index(['Name', 'Start Date', 'Role', 'Role Level', 'Vendor', 'Product',\n",
              "       'Prod Start Date', 'Prod End Date', 'resource product start date',\n",
              "       'resource product end date', 'Prod Build Location', 'Anchor',\n",
              "       'Work Intake Scoping', 'Interviewer', 'Security Maven', 'Accessibility',\n",
              "       'DevSecOps', 'Education Track', 'Location', 'E/C', 'Color (Y/N)',\n",
              "       'Gender', 'Available for Other areas', 'Skill 1', 'Skill 2', 'Skill 3',\n",
              "       'Skill 4', 'Skill 5'],\n",
              "      dtype='object')"
            ]
          },
          "metadata": {
            "tags": []
          },
          "execution_count": 27
        }
      ]
    },
    {
      "cell_type": "code",
      "metadata": {
        "colab": {
          "base_uri": "https://localhost:8080/"
        },
        "id": "jbR2SvrOTUrC",
        "outputId": "236217fc-f041-4781-811a-97a33a5582ca"
      },
      "source": [
        "df.info()"
      ],
      "execution_count": null,
      "outputs": [
        {
          "output_type": "stream",
          "text": [
            "<class 'pandas.core.frame.DataFrame'>\n",
            "RangeIndex: 206 entries, 0 to 205\n",
            "Data columns (total 28 columns):\n",
            " #   Column                       Non-Null Count  Dtype  \n",
            "---  ------                       --------------  -----  \n",
            " 0   Name                         171 non-null    object \n",
            " 1   Start Date                   171 non-null    object \n",
            " 2   Role                         171 non-null    object \n",
            " 3   Role Level                   119 non-null    object \n",
            " 4   Vendor                       54 non-null     object \n",
            " 5   Product                      159 non-null    object \n",
            " 6   Prod Start Date              159 non-null    object \n",
            " 7   Prod End Date                152 non-null    object \n",
            " 8   resource product start date  159 non-null    object \n",
            " 9   resource product end date    152 non-null    object \n",
            " 10  Prod Build Location          160 non-null    object \n",
            " 11  Anchor                       24 non-null     object \n",
            " 12  Work Intake Scoping          0 non-null      float64\n",
            " 13  Interviewer                  20 non-null     object \n",
            " 14  Security Maven               8 non-null      object \n",
            " 15  Accessibility                7 non-null      object \n",
            " 16  DevSecOps                    2 non-null      object \n",
            " 17  Education Track              1 non-null      object \n",
            " 18  Location                     171 non-null    object \n",
            " 19  E/C                          171 non-null    object \n",
            " 20  Color (Y/N)                  171 non-null    object \n",
            " 21  Gender                       171 non-null    object \n",
            " 22  Available for Other areas    38 non-null     object \n",
            " 23  Skill 1                      121 non-null    object \n",
            " 24  Skill 2                      139 non-null    object \n",
            " 25  Skill 3                      34 non-null     object \n",
            " 26  Skill 4                      18 non-null     object \n",
            " 27  Skill 5                      0 non-null      float64\n",
            "dtypes: float64(2), object(26)\n",
            "memory usage: 45.2+ KB\n"
          ],
          "name": "stdout"
        }
      ]
    },
    {
      "cell_type": "code",
      "metadata": {
        "colab": {
          "base_uri": "https://localhost:8080/",
          "height": 284
        },
        "id": "iz5JJFy8Tv25",
        "outputId": "23869baa-519c-4712-da67-f73c8d8f6501"
      },
      "source": [
        "df.describe()"
      ],
      "execution_count": null,
      "outputs": [
        {
          "output_type": "execute_result",
          "data": {
            "text/html": [
              "<div>\n",
              "<style scoped>\n",
              "    .dataframe tbody tr th:only-of-type {\n",
              "        vertical-align: middle;\n",
              "    }\n",
              "\n",
              "    .dataframe tbody tr th {\n",
              "        vertical-align: top;\n",
              "    }\n",
              "\n",
              "    .dataframe thead th {\n",
              "        text-align: right;\n",
              "    }\n",
              "</style>\n",
              "<table border=\"1\" class=\"dataframe\">\n",
              "  <thead>\n",
              "    <tr style=\"text-align: right;\">\n",
              "      <th></th>\n",
              "      <th>Work Intake Scoping</th>\n",
              "      <th>Skill 5</th>\n",
              "    </tr>\n",
              "  </thead>\n",
              "  <tbody>\n",
              "    <tr>\n",
              "      <th>count</th>\n",
              "      <td>0.0</td>\n",
              "      <td>0.0</td>\n",
              "    </tr>\n",
              "    <tr>\n",
              "      <th>mean</th>\n",
              "      <td>NaN</td>\n",
              "      <td>NaN</td>\n",
              "    </tr>\n",
              "    <tr>\n",
              "      <th>std</th>\n",
              "      <td>NaN</td>\n",
              "      <td>NaN</td>\n",
              "    </tr>\n",
              "    <tr>\n",
              "      <th>min</th>\n",
              "      <td>NaN</td>\n",
              "      <td>NaN</td>\n",
              "    </tr>\n",
              "    <tr>\n",
              "      <th>25%</th>\n",
              "      <td>NaN</td>\n",
              "      <td>NaN</td>\n",
              "    </tr>\n",
              "    <tr>\n",
              "      <th>50%</th>\n",
              "      <td>NaN</td>\n",
              "      <td>NaN</td>\n",
              "    </tr>\n",
              "    <tr>\n",
              "      <th>75%</th>\n",
              "      <td>NaN</td>\n",
              "      <td>NaN</td>\n",
              "    </tr>\n",
              "    <tr>\n",
              "      <th>max</th>\n",
              "      <td>NaN</td>\n",
              "      <td>NaN</td>\n",
              "    </tr>\n",
              "  </tbody>\n",
              "</table>\n",
              "</div>"
            ],
            "text/plain": [
              "       Work Intake Scoping  Skill 5\n",
              "count                  0.0      0.0\n",
              "mean                   NaN      NaN\n",
              "std                    NaN      NaN\n",
              "min                    NaN      NaN\n",
              "25%                    NaN      NaN\n",
              "50%                    NaN      NaN\n",
              "75%                    NaN      NaN\n",
              "max                    NaN      NaN"
            ]
          },
          "metadata": {
            "tags": []
          },
          "execution_count": 29
        }
      ]
    },
    {
      "cell_type": "markdown",
      "metadata": {
        "id": "CtqNvPu1VU2T"
      },
      "source": [
        "**Gender Diversity**"
      ]
    },
    {
      "cell_type": "code",
      "metadata": {
        "colab": {
          "base_uri": "https://localhost:8080/"
        },
        "id": "Iw8PFiBkUs8N",
        "outputId": "81958957-176b-4463-e650-9f8ac33a22c6"
      },
      "source": [
        "list(df['Gender'].unique())[:-1]"
      ],
      "execution_count": null,
      "outputs": [
        {
          "output_type": "execute_result",
          "data": {
            "text/plain": [
              "['M', 'F']"
            ]
          },
          "metadata": {
            "tags": []
          },
          "execution_count": 30
        }
      ]
    },
    {
      "cell_type": "code",
      "metadata": {
        "colab": {
          "base_uri": "https://localhost:8080/",
          "height": 403
        },
        "id": "2w7tdp0kUW21",
        "outputId": "9c6ae76b-0afc-468b-d934-c64103451b7b"
      },
      "source": [
        "plt.figure(figsize=(6,6))\n",
        "\n",
        "Gender_df = df['Gender'].value_counts()\n",
        "\n",
        "plt.title('Gender diversity', y=-0.15)\n",
        "plt.pie(Gender_df, labels=list(df['Gender'].unique())[:-1]);\n",
        "plt.axis('equal');"
      ],
      "execution_count": null,
      "outputs": [
        {
          "output_type": "display_data",
          "data": {
            "image/png": "[encoded data removed]",
            "text/plain": [
              "<Figure size 432x432 with 1 Axes>"
            ]
          },
          "metadata": {
            "tags": []
          }
        }
      ]
    },
    {
      "cell_type": "markdown",
      "metadata": {
        "id": "C4-bM11HVYYu"
      },
      "source": [
        "**Skillset of a resource**"
      ]
    },
    {
      "cell_type": "code",
      "metadata": {
        "colab": {
          "base_uri": "https://localhost:8080/",
          "height": 195
        },
        "id": "B4R5jJ_xVJ2j",
        "outputId": "b2fe3898-d1e7-48f2-a7dd-e5992f5bd564"
      },
      "source": [
        "skill_columns=['Name','Skill 1', 'Skill 2', 'Skill 3', 'Skill 4', 'Skill 5']\n",
        "df_skill=df[skill_columns]\n",
        "df_skill.head()"
      ],
      "execution_count": null,
      "outputs": [
        {
          "output_type": "execute_result",
          "data": {
            "text/html": [
              "<div>\n",
              "<style scoped>\n",
              "    .dataframe tbody tr th:only-of-type {\n",
              "        vertical-align: middle;\n",
              "    }\n",
              "\n",
              "    .dataframe tbody tr th {\n",
              "        vertical-align: top;\n",
              "    }\n",
              "\n",
              "    .dataframe thead th {\n",
              "        text-align: right;\n",
              "    }\n",
              "</style>\n",
              "<table border=\"1\" class=\"dataframe\">\n",
              "  <thead>\n",
              "    <tr style=\"text-align: right;\">\n",
              "      <th></th>\n",
              "      <th>Name</th>\n",
              "      <th>Skill 1</th>\n",
              "      <th>Skill 2</th>\n",
              "      <th>Skill 3</th>\n",
              "      <th>Skill 4</th>\n",
              "      <th>Skill 5</th>\n",
              "    </tr>\n",
              "  </thead>\n",
              "  <tbody>\n",
              "    <tr>\n",
              "      <th>0</th>\n",
              "      <td>Resource 2</td>\n",
              "      <td>NaN</td>\n",
              "      <td>Cloud</td>\n",
              "      <td>NaN</td>\n",
              "      <td>NaN</td>\n",
              "      <td>NaN</td>\n",
              "    </tr>\n",
              "    <tr>\n",
              "      <th>1</th>\n",
              "      <td>Resource 3</td>\n",
              "      <td>Legacy Java</td>\n",
              "      <td>Cloud</td>\n",
              "      <td>IBM/Websphere</td>\n",
              "      <td>Angular</td>\n",
              "      <td>NaN</td>\n",
              "    </tr>\n",
              "    <tr>\n",
              "      <th>2</th>\n",
              "      <td>Resource 6</td>\n",
              "      <td>.NET</td>\n",
              "      <td>Cloud</td>\n",
              "      <td>NaN</td>\n",
              "      <td>NaN</td>\n",
              "      <td>NaN</td>\n",
              "    </tr>\n",
              "    <tr>\n",
              "      <th>3</th>\n",
              "      <td>Resource 7</td>\n",
              "      <td>.NET</td>\n",
              "      <td>Cloud</td>\n",
              "      <td>NaN</td>\n",
              "      <td>NaN</td>\n",
              "      <td>NaN</td>\n",
              "    </tr>\n",
              "    <tr>\n",
              "      <th>4</th>\n",
              "      <td>Resource 8</td>\n",
              "      <td>NaN</td>\n",
              "      <td>NaN</td>\n",
              "      <td>NaN</td>\n",
              "      <td>NaN</td>\n",
              "      <td>NaN</td>\n",
              "    </tr>\n",
              "  </tbody>\n",
              "</table>\n",
              "</div>"
            ],
            "text/plain": [
              "         Name      Skill 1 Skill 2        Skill 3  Skill 4  Skill 5\n",
              "0  Resource 2          NaN  Cloud             NaN      NaN      NaN\n",
              "1  Resource 3  Legacy Java  Cloud   IBM/Websphere  Angular      NaN\n",
              "2  Resource 6         .NET  Cloud             NaN      NaN      NaN\n",
              "3  Resource 7         .NET  Cloud             NaN      NaN      NaN\n",
              "4  Resource 8          NaN     NaN            NaN      NaN      NaN"
            ]
          },
          "metadata": {
            "tags": []
          },
          "execution_count": 32
        }
      ]
    },
    {
      "cell_type": "code",
      "metadata": {
        "id": "PE8HHF_pY4Vi",
        "colab": {
          "base_uri": "https://localhost:8080/"
        },
        "outputId": "4788314a-412c-470f-a1ef-b3706cb676ac"
      },
      "source": [
        "\n",
        "resource_name = input (\"Enter a Name of the resource: \")"
      ],
      "execution_count": 1,
      "outputs": [
        {
          "output_type": "stream",
          "text": [
            "Enter a Name of the resource: Resource 2\n"
          ],
          "name": "stdout"
        }
      ]
    },
    {
      "cell_type": "code",
      "metadata": {
        "id": "kwMON_e0Yewp"
      },
      "source": [
        "df_skill[df_skill['Name'] == resource_name ]"
      ],
      "execution_count": null,
      "outputs": []
    },
    {
      "cell_type": "markdown",
      "metadata": {
        "id": "bHqrdzGLZt4T"
      },
      "source": [
        "**Security Maven on a product**"
      ]
    },
    {
      "cell_type": "code",
      "metadata": {
        "id": "SB5O7bAabFYC"
      },
      "source": [
        "sm_columns=['Name','Product','Security Maven']\n",
        "df_sm=df[sm_columns]\n",
        "df_sm.head()"
      ],
      "execution_count": null,
      "outputs": []
    },
    {
      "cell_type": "code",
      "metadata": {
        "id": "moe54O3xZzrP"
      },
      "source": [
        "security_maven = input (\"Enter product name: \")\n",
        "security_maven=security_maven.strip()"
      ],
      "execution_count": null,
      "outputs": []
    },
    {
      "cell_type": "code",
      "metadata": {
        "id": "Dxn3mj2FZ87o"
      },
      "source": [
        "df_sm[df_sm['Product'] == security_maven ]"
      ],
      "execution_count": null,
      "outputs": []
    },
    {
      "cell_type": "markdown",
      "metadata": {
        "id": "SaFE8sI2cPGa"
      },
      "source": [
        "**PM, UX or Anchor on a Product**"
      ]
    },
    {
      "cell_type": "code",
      "metadata": {
        "id": "caMnj4YCcTcy",
        "colab": {
          "base_uri": "https://localhost:8080/",
          "height": 195
        },
        "outputId": "0c5b705a-fcf9-49a0-b412-de72df78d751"
      },
      "source": [
        "role_columns=['Name','Product','Role','Anchor']\n",
        "df_role=df[role_columns]\n",
        "df_role.head()"
      ],
      "execution_count": 2,
      "outputs": [
        {
          "output_type": "error",
          "ename": "NameError",
          "evalue": "ignored",
          "traceback": [
            "\u001b[0;31m---------------------------------------------------------------------------\u001b[0m",
            "\u001b[0;31mNameError\u001b[0m                                 Traceback (most recent call last)",
            "\u001b[0;32m<ipython-input-2-46a02548ba79>\u001b[0m in \u001b[0;36m<module>\u001b[0;34m()\u001b[0m\n\u001b[1;32m      1\u001b[0m \u001b[0mrole_columns\u001b[0m\u001b[0;34m=\u001b[0m\u001b[0;34m[\u001b[0m\u001b[0;34m'Name'\u001b[0m\u001b[0;34m,\u001b[0m\u001b[0;34m'Product'\u001b[0m\u001b[0;34m,\u001b[0m\u001b[0;34m'Role'\u001b[0m\u001b[0;34m,\u001b[0m\u001b[0;34m'Anchor'\u001b[0m\u001b[0;34m]\u001b[0m\u001b[0;34m\u001b[0m\u001b[0;34m\u001b[0m\u001b[0m\n\u001b[0;32m----> 2\u001b[0;31m \u001b[0mdf_role\u001b[0m\u001b[0;34m=\u001b[0m\u001b[0mdf\u001b[0m\u001b[0;34m[\u001b[0m\u001b[0mrole_columns\u001b[0m\u001b[0;34m]\u001b[0m\u001b[0;34m\u001b[0m\u001b[0;34m\u001b[0m\u001b[0m\n\u001b[0m\u001b[1;32m      3\u001b[0m \u001b[0mdf_role\u001b[0m\u001b[0;34m.\u001b[0m\u001b[0mhead\u001b[0m\u001b[0;34m(\u001b[0m\u001b[0;34m)\u001b[0m\u001b[0;34m\u001b[0m\u001b[0;34m\u001b[0m\u001b[0m\n",
            "\u001b[0;31mNameError\u001b[0m: name 'df' is not defined"
          ]
        }
      ]
    },
    {
      "cell_type": "code",
      "metadata": {
        "id": "qvw5Knojcqu5"
      },
      "source": [
        "product_name = input (\"Enter product name: \")\n",
        "product_name=product_name.strip()"
      ],
      "execution_count": null,
      "outputs": []
    },
    {
      "cell_type": "code",
      "metadata": {
        "id": "4b5ju_u-c4Ti"
      },
      "source": [
        "df_role[df_role['Product'] == product_name ]"
      ],
      "execution_count": null,
      "outputs": []
    },
    {
      "cell_type": "code",
      "metadata": {
        "id": "Y0p-4xbDdXVA"
      },
      "source": [
        "df_role[(df_role.Product == product_name) & (df_role.Role != 'Engr')]\n",
        "df_role[df_role.Role != 'Engr']"
      ],
      "execution_count": null,
      "outputs": []
    },
    {
      "cell_type": "markdown",
      "metadata": {
        "id": "-0XlKoivfIpn"
      },
      "source": [
        "**How many contractor resources? Vendor-wise, Location-wise**"
      ]
    },
    {
      "cell_type": "code",
      "metadata": {
        "id": "a3WFzc0rfSEs"
      },
      "source": [
        "f, ax = plt.subplots(figsize=(12, 10))\n",
        "\n",
        "sns.countplot(x=\"Vendor\", data=df[df['E/C'] == 'C' ], palette = 'GnBu')\n",
        "ax.set(xlabel='Vendor', ylabel='Number of contractors',title='Count of contractors:Vendor-wise')\n",
        "plt.show()"
      ],
      "execution_count": null,
      "outputs": []
    },
    {
      "cell_type": "code",
      "metadata": {
        "id": "U7Hy-FLtiNDe"
      },
      "source": [
        "plt.figure(figsize = (12, 8))\n",
        "\n",
        "ax = sns.countplot(x='Prod Build Location', data=df[df['E/C'] == 'C' ], palette = 'Set3',order = df['Prod Build Location'].value_counts().index)\n",
        "ax.set_xlabel(xlabel = 'Prod Build Location', fontsize = 14)\n",
        "ax.set_ylabel(ylabel = 'Number of contractors', fontsize = 14)\n",
        "ax.set_title(label = 'Count of contractors:Location-wise', fontsize = 18)\n",
        "plt.show()\n"
      ],
      "execution_count": null,
      "outputs": []
    },
    {
      "cell_type": "markdown",
      "metadata": {
        "id": "lZDufMTzjuv3"
      },
      "source": [
        "**What is the PM to UX to Engr ratio?**"
      ]
    },
    {
      "cell_type": "code",
      "metadata": {
        "id": "7rPYhBzsk75m"
      },
      "source": [
        "df['Role'] = df['Role'].str.strip()"
      ],
      "execution_count": null,
      "outputs": []
    },
    {
      "cell_type": "code",
      "metadata": {
        "id": "Hf-xJu2VjxgU"
      },
      "source": [
        "s=df.Role.value_counts(normalize=True,sort=False).mul(100) # mul(100) is == *100\n",
        "s.index.name,s.name='Role','Ratio' #setting the name of index and series\n",
        "print(s.to_frame()) #series.to_frame() returns a dataframe"
      ],
      "execution_count": null,
      "outputs": []
    },
    {
      "cell_type": "markdown",
      "metadata": {
        "id": "QMKBd5p3lmDr"
      },
      "source": [
        "**Location-wise resources – PMs, UXs, Engrs**"
      ]
    },
    {
      "cell_type": "code",
      "metadata": {
        "id": "wmdP1TDWotPb"
      },
      "source": [
        "df_loc=df.dropna(subset = ['Role', 'Prod Build Location'])\n",
        "df_loc['Prod Build Location'] = df_loc['Prod Build Location'].str.strip()\n",
        "df_loc['Role'] = df_loc['Role'].str.strip()\n",
        "df_loc"
      ],
      "execution_count": null,
      "outputs": []
    },
    {
      "cell_type": "code",
      "metadata": {
        "id": "5XA_fNkWtoz-"
      },
      "source": [
        "df_loc.groupby('Prod Build Location').Role.value_counts().unstack().plot.barh()"
      ],
      "execution_count": null,
      "outputs": []
    },
    {
      "cell_type": "markdown",
      "metadata": {
        "id": "mUg4hcpPuq0O"
      },
      "source": [
        "**Need 1 intermediate 1 junior, 2 senior resource available for new products starting on May 15 2021 for build location in IL? (Hint: Resources have to be found based on product end-date closest to May 15 2021, their level and their location)**"
      ]
    },
    {
      "cell_type": "code",
      "metadata": {
        "id": "Ozf1oNc7utOM"
      },
      "source": [
        "df['Prod Build Location']=df['Prod Build Location'].str.strip()\n",
        "df_IL= df[df['Prod Build Location'] == 'IL']\n",
        "df_IL.head()"
      ],
      "execution_count": null,
      "outputs": []
    },
    {
      "cell_type": "code",
      "metadata": {
        "id": "e2lClaLqwckU"
      },
      "source": [
        "df_IL= df[df['Prod Start Date'] > '05/15/21']\n"
      ],
      "execution_count": null,
      "outputs": []
    },
    {
      "cell_type": "markdown",
      "metadata": {
        "id": "a4YabB0hvMgk"
      },
      "source": [
        "**Alert on product missing end date despite it is going on for one month?**"
      ]
    },
    {
      "cell_type": "code",
      "metadata": {
        "id": "PeNIb-XXxuTy"
      },
      "source": [
        "df['Prod Start Date'] = pd.to_datetime(df['Prod Start Date'])\n",
        "df['Prod End Date'] = pd.to_datetime(df['Prod End Date'])\n",
        "df['prod_days'] = (df['Prod End Date'] - df['Prod Start Date']).dt.days\n",
        "df.head()"
      ],
      "execution_count": null,
      "outputs": []
    },
    {
      "cell_type": "code",
      "metadata": {
        "id": "326Q6benvLnQ"
      },
      "source": [
        "df_alert=df[df['prod_days'] > 30]\n",
        "\n",
        "df_alert = df_alert[['Product','Prod Start Date','Prod End Date','prod_days']]\n",
        "\n",
        "df_alert.head()"
      ],
      "execution_count": null,
      "outputs": []
    },
    {
      "cell_type": "markdown",
      "metadata": {
        "id": "gcfGuUznvRWD"
      },
      "source": [
        "**Resource ready for next rotation? (Hint: Identify folks working longest on product based on their resource product start date compared to current date?)**"
      ]
    },
    {
      "cell_type": "code",
      "metadata": {
        "id": "9xbXr4HAviFr"
      },
      "source": [
        "from datetime import date, datetime\n",
        "df['Start Date'] = pd.to_datetime(df['Start Date'])\n",
        "\n",
        "df['resource_days'] = (pd.Timestamp.now().floor('d') - df['Start Date']).dt.days\n",
        "\n",
        "df_rotation = df[['Name','Product','Start Date','resource_days']]\n",
        "df_rotation.head()"
      ],
      "execution_count": null,
      "outputs": []
    },
    {
      "cell_type": "markdown",
      "metadata": {
        "id": "kICR93Tm3N4j"
      },
      "source": [
        "Finding top 20 longest working reources"
      ]
    },
    {
      "cell_type": "code",
      "metadata": {
        "id": "BffrdkvY28u5"
      },
      "source": [
        "df_rotation_next=df_rotation.nlargest(20, 'resource_days')\n",
        "df_rotation_next=df_rotation_next[['Name','Product','Start Date','resource_days']]\n",
        "\n",
        "df_rotation_next.resource_days = df_rotation_next.resource_days.astype(int)\n",
        "\n",
        "df_rotation_next.style.background_gradient('inferno')"
      ],
      "execution_count": null,
      "outputs": []
    }
  ]
}